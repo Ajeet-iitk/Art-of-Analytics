{
  "nbformat": 4,
  "nbformat_minor": 0,
  "metadata": {
    "colab": {
      "provenance": []
    },
    "kernelspec": {
      "name": "python3",
      "display_name": "Python 3"
    },
    "language_info": {
      "name": "python"
    }
  },
  "cells": [
    {
      "cell_type": "markdown",
      "source": [
        "Welcome to your second assignment of **The Art of Analytics**."
      ],
      "metadata": {
        "id": "LQ1oKO-50JbL"
      }
    },
    {
      "cell_type": "markdown",
      "source": [
        "Start by importing all important libraries but as we did in last assignment, add the last two digits of your roll number too. (Example : import numpy as np68)\n",
        "Also comment your roll number here itself"
      ],
      "metadata": {
        "id": "UVmgqXah0TuC"
      }
    },
    {
      "cell_type": "code",
      "execution_count": 30,
      "metadata": {
        "id": "gvZaqJtO0Ejw"
      },
      "outputs": [],
      "source": []
    },
    {
      "cell_type": "markdown",
      "source": [
        "Read the csv file and assign it to a variable"
      ],
      "metadata": {
        "id": "a4i7EXfC05PD"
      }
    },
    {
      "cell_type": "code",
      "source": [],
      "metadata": {
        "id": "vomLtqc804QH"
      },
      "execution_count": 30,
      "outputs": []
    },
    {
      "cell_type": "markdown",
      "source": [
        "Display shape of dataframe"
      ],
      "metadata": {
        "id": "grUSex411NYa"
      }
    },
    {
      "cell_type": "code",
      "source": [],
      "metadata": {
        "id": "I33mgVPU1K9a"
      },
      "execution_count": 30,
      "outputs": []
    },
    {
      "cell_type": "markdown",
      "source": [
        "Print all columns of dataframe"
      ],
      "metadata": {
        "id": "fdXvpgmP1QsX"
      }
    },
    {
      "cell_type": "code",
      "source": [],
      "metadata": {
        "id": "silNKzfB1Pwr"
      },
      "execution_count": 30,
      "outputs": []
    },
    {
      "cell_type": "markdown",
      "source": [
        "Remove the column 'ID' and update the dataframe."
      ],
      "metadata": {
        "id": "UaCYGy811XeL"
      }
    },
    {
      "cell_type": "code",
      "source": [],
      "metadata": {
        "id": "qtH-yeKZ1UdR"
      },
      "execution_count": 30,
      "outputs": []
    },
    {
      "cell_type": "markdown",
      "source": [
        "Set the 'WinningTeam' column as the index of dataframe"
      ],
      "metadata": {
        "id": "oQZeNWo61jm5"
      }
    },
    {
      "cell_type": "code",
      "source": [],
      "metadata": {
        "id": "VjCD3MAA1i_S"
      },
      "execution_count": 30,
      "outputs": []
    },
    {
      "cell_type": "markdown",
      "source": [
        "Print a list of all the unique Venue"
      ],
      "metadata": {
        "id": "1Q7gI4zk1x18"
      }
    },
    {
      "cell_type": "code",
      "source": [],
      "metadata": {
        "id": "HSjRUpME1uzG"
      },
      "execution_count": 30,
      "outputs": []
    },
    {
      "cell_type": "markdown",
      "source": [
        "What is the Number of unique Player of the Match in the given dataset ?"
      ],
      "metadata": {
        "id": "IPDXA_MZ2T7W"
      }
    },
    {
      "cell_type": "code",
      "source": [],
      "metadata": {
        "id": "Y_Zf8h252MHg"
      },
      "execution_count": 30,
      "outputs": []
    },
    {
      "cell_type": "markdown",
      "source": [
        "What is the mean, median and standard deviation of 'Margin' in the \n",
        "dataset ?"
      ],
      "metadata": {
        "id": "R9GLp5u72i9V"
      }
    },
    {
      "cell_type": "code",
      "source": [],
      "metadata": {
        "id": "Q4A9-OA_2gOW"
      },
      "execution_count": 30,
      "outputs": []
    },
    {
      "cell_type": "markdown",
      "source": [
        "Which player has received the most number of Player of the match award?"
      ],
      "metadata": {
        "id": "6Bw9SiNa2zQ2"
      }
    },
    {
      "cell_type": "code",
      "source": [],
      "metadata": {
        "id": "CHi8pWOk2xo9"
      },
      "execution_count": 30,
      "outputs": []
    },
    {
      "cell_type": "markdown",
      "source": [
        "Name the Team which has the highest Margin of Win ?"
      ],
      "metadata": {
        "id": "mfkfPMkM3AjX"
      }
    },
    {
      "cell_type": "code",
      "source": [],
      "metadata": {
        "id": "UEAtsLxo29pY"
      },
      "execution_count": 30,
      "outputs": []
    },
    {
      "cell_type": "markdown",
      "source": [
        "Make a pie chart to analyse Teams (Either Team 1 or Team 2) with mumber of match played?\n",
        "Label the Pie Chart."
      ],
      "metadata": {
        "id": "Nnu_nSPZ3Oul"
      }
    },
    {
      "cell_type": "code",
      "source": [
        "\n",
        "\n"
      ],
      "metadata": {
        "id": "TGC68B_F3JIx"
      },
      "execution_count": 30,
      "outputs": []
    },
    {
      "cell_type": "markdown",
      "source": [
        "Bar chart of Umpires (U can use Umpire 1 or Umpire 2, ur choice) and number of match they umpired? \n",
        "Set figure size as (100,20)"
      ],
      "metadata": {
        "id": "VEnNLaEG5iY5"
      }
    },
    {
      "cell_type": "code",
      "source": [],
      "metadata": {
        "id": "P4nBESUx4eND"
      },
      "execution_count": 30,
      "outputs": []
    },
    {
      "cell_type": "markdown",
      "source": [
        "Any Comment?"
      ],
      "metadata": {
        "id": "iuXe0ljn9YdY"
      }
    },
    {
      "cell_type": "code",
      "source": [],
      "metadata": {
        "id": "bJ2si-bB6bCQ"
      },
      "execution_count": null,
      "outputs": []
    }
  ]
}