{
  "nbformat": 4,
  "nbformat_minor": 0,
  "metadata": {
    "colab": {
      "provenance": []
    },
    "kernelspec": {
      "name": "python3",
      "display_name": "Python 3"
    },
    "language_info": {
      "name": "python"
    }
  },
  "cells": [
    {
      "cell_type": "markdown",
      "source": [
        "### **Question 1: Linear Regression**\n",
        "a) Load the \"Boston Housing\" dataset from scikit-learn's built-in datasets.\n",
        "\n",
        "b) Split the data into training and testing sets.\n",
        "\n",
        "if your roll number is even then\n",
        "(80% training, 20% testing).\n",
        "\n",
        "if your roll number is odd then\n",
        "(70% training, 30% testing).\n",
        "\n",
        "c) Train a linear regression model on the training data and make predictions on the testing data.\n",
        "\n",
        "d) Calculate the mean squared error (MSE) between the predicted and actual values."
      ],
      "metadata": {
        "id": "KBC-TeRWnwQX"
      }
    },
    {
      "cell_type": "code",
      "execution_count": 3,
      "metadata": {
        "colab": {
          "base_uri": "https://localhost:8080/"
        },
        "id": "oPQXrvkpnuck",
        "outputId": "b2272497-ccd4-4dd0-a59f-ddd4a8b0770c"
      },
      "outputs": [
        {
          "output_type": "stream",
          "name": "stdout",
          "text": [
            "Mean Squared Error: 24.291119474973485\n"
          ]
        }
      ],
      "source": [
        "from sklearn import datasets\n",
        "from sklearn.model_selection import train_test_split\n",
        "from sklearn.linear_model import LinearRegression\n",
        "from sklearn.metrics import mean_squared_error\n",
        "\n",
        "import pandas as pd\n",
        "import numpy as np\n",
        "\n",
        "data_url = \"http://lib.stat.cmu.edu/datasets/boston\"\n",
        "raw_df = pd.read_csv(data_url, sep=\"\\s+\", skiprows=22, header=None)\n",
        "data = np.hstack([raw_df.values[::2, :], raw_df.values[1::2, :2]])\n",
        "target = raw_df.values[1::2, 2]\n",
        "\n",
        "X = data\n",
        "y = target\n",
        "\n",
        "\n",
        "# boston = datasets.load_boston()\n",
        "\n",
        "# Load the Boston Housing dataset\n",
        "# data = load_boston()\n",
        "# data  = boston\n",
        "# X = data.data\n",
        "# y = data.target\n",
        "\n",
        "# Split the data into training and testing sets\n",
        "X_train, X_test, y_train, y_test = train_test_split(X, y, test_size=0.2, random_state=42)\n",
        "\n",
        "# Train a linear regression model\n",
        "model = LinearRegression()\n",
        "model.fit(X_train, y_train)\n",
        "\n",
        "# Make predictions on the testing data\n",
        "predictions = model.predict(X_test)\n",
        "\n",
        "# Calculate the mean squared error\n",
        "mse = mean_squared_error(y_test, predictions)\n",
        "\n",
        "print(\"Mean Squared Error:\", mse)\n"
      ]
    },
    {
      "cell_type": "markdown",
      "source": [
        "# **Question 2: L1 Regularization (Lasso)**\n",
        "a) Load the \"Diabetes\" dataset from scikit-learn's built-in datasets.\n",
        "\n",
        "b) Split the data into training and testing sets.\n",
        "\n",
        "if your roll number is even then (80% training, 20% testing).\n",
        "\n",
        "if your roll number is odd then (70% training, 30% testing).\n",
        "\n",
        "c) Train a Lasso regression model on the training data with an alpha value of 0.1.\n",
        "\n",
        "d) Evaluate the model's performance using the mean squared error (MSE) on the testing data.\n",
        "\n",
        "e) Identify the features that were selected (non-zero coefficients) by the Lasso model."
      ],
      "metadata": {
        "id": "YSS5rTA4pTvS"
      }
    },
    {
      "cell_type": "code",
      "source": [
        "from sklearn.datasets import load_diabetes\n",
        "from sklearn.model_selection import train_test_split\n",
        "from sklearn.linear_model import Lasso\n",
        "from sklearn.metrics import mean_squared_error\n",
        "\n",
        "# Load the Diabetes dataset\n",
        "data = load_diabetes()\n",
        "X = data.data\n",
        "y = data.target\n",
        "\n",
        "# Split the data into training and testing sets\n",
        "X_train, X_test, y_train, y_test = train_test_split(X, y, test_size=0.3, random_state=42)\n",
        "\n",
        "# Train a Lasso regression model\n",
        "model = Lasso(alpha=0.1)\n",
        "model.fit(X_train, y_train)\n",
        "\n",
        "# Make predictions on the testing data\n",
        "predictions = model.predict(X_test)\n",
        "\n",
        "# Calculate the mean squared error\n",
        "mse = mean_squared_error(y_test, predictions)\n",
        "\n",
        "print(\"Mean Squared Error:\", mse)\n",
        "print(\"Selected Features:\", [data.feature_names[i] for i in range(len(model.coef_)) if model.coef_[i] != 0])\n"
      ],
      "metadata": {
        "colab": {
          "base_uri": "https://localhost:8080/"
        },
        "id": "PQlyXVneoNzi",
        "outputId": "a05b023d-7428-4503-8679-e5c8e6035bf8"
      },
      "execution_count": 4,
      "outputs": [
        {
          "output_type": "stream",
          "name": "stdout",
          "text": [
            "Mean Squared Error: 2775.165076183445\n",
            "Selected Features: ['sex', 'bmi', 'bp', 's1', 's3', 's5', 's6']\n"
          ]
        }
      ]
    },
    {
      "cell_type": "markdown",
      "source": [
        "# **Question 3: L2 Regularization (Ridge)**\n",
        "a) Load the \"California Housing\" dataset from an online source (e.g., Kaggle).\n",
        "*housing.csv* written\n",
        "\n",
        "b) Perform any necessary preprocessing steps, such as handling missing values or scaling the features.\n",
        "\n",
        "c) Split the data into training and testing sets.\n",
        "\n",
        "if your roll number is prime (last two digits) then (85% training, 15% testing).\n",
        "\n",
        "if your roll number is not prime (last two digits) then (75% training, 35% testing).\n",
        "\n",
        "d) Train a Ridge regression model on the training data with an alpha value of 0.01.\n",
        "\n",
        "e) Calculate the mean squared error (MSE) on the testing data to assess the model's performance."
      ],
      "metadata": {
        "id": "LPm7ty0SpplH"
      }
    },
    {
      "cell_type": "code",
      "source": [
        "import pandas as pd\n",
        "from sklearn.model_selection import train_test_split\n",
        "from sklearn.linear_model import Ridge\n",
        "from sklearn.metrics import mean_squared_error\n",
        "\n",
        "# Load the California Housing dataset from an online source (e.g., Kaggle)\n",
        "data = pd.read_csv('/content/housing.csv')\n",
        "\n",
        "# Perform necessary preprocessing steps if required\n",
        "columns_to_remove = [\"longitude\", \"latitude\", \"ocean_proximity\"]\n",
        "data = data.drop(columns_to_remove, axis=1)\n",
        "\n",
        "data = data.dropna()\n",
        "\n",
        "# Split the data into training and testing sets\n",
        "X = data.drop(\"population\", axis=1)\n",
        "y = data[\"population\"]\n",
        "X_train, X_test, y_train, y_test = train_test_split(X, y, test_size=0.25, random_state=42)\n",
        "\n",
        "# Train a Ridge regression model\n",
        "model = Ridge(alpha=0.01)\n",
        "model.fit(X_train, y_train)\n",
        "\n",
        "# Make predictions on the testing data\n",
        "predictions = model.predict(X_test)\n",
        "\n",
        "# Calculate the mean squared error\n",
        "mse = mean_squared_error(y_test, predictions)\n",
        "\n",
        "print(\"Mean Squared Error:\", mse)\n"
      ],
      "metadata": {
        "colab": {
          "base_uri": "https://localhost:8080/"
        },
        "id": "YZjj1ogDpjz7",
        "outputId": "5064c47d-3813-4747-d0f1-b0d0d0c8d86c"
      },
      "execution_count": 8,
      "outputs": [
        {
          "output_type": "stream",
          "name": "stdout",
          "text": [
            "Mean Squared Error: 164492.86717856603\n"
          ]
        }
      ]
    },
    {
      "cell_type": "code",
      "source": [],
      "metadata": {
        "id": "dYhx67XpqtUH"
      },
      "execution_count": null,
      "outputs": []
    }
  ]
}