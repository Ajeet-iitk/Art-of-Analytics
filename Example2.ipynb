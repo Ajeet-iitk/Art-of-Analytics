{
  "cells": [
    {
      "cell_type": "markdown",
      "source": [
        "\n",
        "\n",
        "```\n",
        "# This is formatted as code\n",
        "```\n",
        "\n",
        "Examples of conditional and boolean statements, loops statements, and functions in Python:\n",
        "\n",
        "**Conditional and Boolean Statements**\n",
        "\n",
        "A conditional statement is a statement that can be either true or false. Boolean statements are statements that can be evaluated to true or false.\n",
        "\n",
        "Here is an example of a conditional statement:"
      ],
      "metadata": {
        "id": "vy64oy8J3J0Y"
      }
    },
    {
      "cell_type": "code",
      "source": [
        "x = 5\n",
        "if x > 0:\n",
        "  print(\"x is positive\")\n",
        "else:\n",
        "  print(\"x is not positive\")"
      ],
      "outputs": [
        {
          "output_type": "stream",
          "name": "stdout",
          "text": [
            "x is positive\n"
          ]
        }
      ],
      "execution_count": 4,
      "metadata": {
        "colab": {
          "base_uri": "https://localhost:8080/"
        },
        "id": "-nKMI8_b3J0d",
        "outputId": "0635c2c1-9d88-4787-97ec-480285b6de0b"
      }
    },
    {
      "cell_type": "markdown",
      "source": [
        "Here is an example of a Boolean statement:"
      ],
      "metadata": {
        "id": "JQcTk_EX3J0g"
      }
    },
    {
      "cell_type": "code",
      "source": [
        "x = 5\n",
        "\n",
        "if x == 5:\n",
        "  print(\"x is equal to 5\")\n",
        "else:\n",
        "  print(\"x is not equal to 5\")"
      ],
      "outputs": [],
      "execution_count": null,
      "metadata": {
        "id": "lWsaf-dA3J0h"
      }
    },
    {
      "cell_type": "markdown",
      "source": [
        "**Loops Statements**\n",
        "\n",
        "A loop statement is a statement that repeats a block of code until a certain condition is met.\n",
        "\n",
        "Here is an example of a loop statement:"
      ],
      "metadata": {
        "id": "TES4gl_H3J0j"
      }
    },
    {
      "cell_type": "code",
      "source": [
        "for i in range(10):\n",
        "  print(i)"
      ],
      "outputs": [
        {
          "output_type": "stream",
          "name": "stdout",
          "text": [
            "0\n",
            "1\n",
            "2\n",
            "3\n",
            "4\n",
            "5\n",
            "6\n",
            "7\n",
            "8\n",
            "9\n"
          ]
        }
      ],
      "execution_count": 5,
      "metadata": {
        "colab": {
          "base_uri": "https://localhost:8080/"
        },
        "id": "IYB3Xx5B3J0j",
        "outputId": "7e1b043c-914c-422b-b0fc-dc4b21ba2357"
      }
    },
    {
      "cell_type": "markdown",
      "source": [
        "This loop will print the numbers from 0 to 9."
      ],
      "metadata": {
        "id": "OG-iWZSH3J0k"
      }
    },
    {
      "cell_type": "markdown",
      "source": [
        "**Functions**\n",
        "\n",
        "A function is a block of code that can be reused in multiple places.\n",
        "\n",
        "Here is an example of a function:"
      ],
      "metadata": {
        "id": "JOsi-Ju63J0l"
      }
    },
    {
      "cell_type": "code",
      "source": [
        "\n",
        "def factorial(n):\n",
        "  \"\"\"Returns the factorial of n.\"\"\"\n",
        "  if n == 0:\n",
        "    return 1\n",
        "  else:\n",
        "    return n * factorial(n - 1)\n",
        "\n",
        "factorial(6)"
      ],
      "outputs": [
        {
          "output_type": "execute_result",
          "data": {
            "text/plain": [
              "720"
            ]
          },
          "metadata": {},
          "execution_count": 11
        }
      ],
      "execution_count": 11,
      "metadata": {
        "colab": {
          "base_uri": "https://localhost:8080/"
        },
        "id": "z-qIvHcB3J0m",
        "outputId": "a6fb6ef5-e93c-4d20-e8cd-eea67fde0b6a"
      }
    },
    {
      "cell_type": "markdown",
      "source": [
        "This function can be used to calculate the factorial of a number.\n",
        "\n",
        "Here is a funny example of a function:"
      ],
      "metadata": {
        "id": "ouW6dEN-3J0n"
      }
    },
    {
      "cell_type": "code",
      "source": [
        "import random\n",
        "\n",
        "def make_me_laugh():\n",
        "  \"\"\"Returns a random joke.\"\"\"\n",
        "  jokes = [\"What do you call a fish with no eyes? Fsh!\", \"Why did the scarecrow win an award? Because he was outstanding in his field!\"]\n",
        "  return jokes[random.randint(0, len(jokes) - 1)]\n",
        "\n",
        "make_me_laugh()"
      ],
      "outputs": [
        {
          "output_type": "execute_result",
          "data": {
            "text/plain": [
              "'What do you call a fish with no eyes? Fsh!'"
            ],
            "application/vnd.google.colaboratory.intrinsic+json": {
              "type": "string"
            }
          },
          "metadata": {},
          "execution_count": 10
        }
      ],
      "execution_count": 10,
      "metadata": {
        "colab": {
          "base_uri": "https://localhost:8080/",
          "height": 36
        },
        "id": "pXdpx2U53J0n",
        "outputId": "9eb1f763-5b21-4ab2-88b8-65f6c6b9944e"
      }
    },
    {
      "cell_type": "markdown",
      "source": [
        "This function can be used to get a random joke.\n",
        "\n",
        "I hope this helps!"
      ],
      "metadata": {
        "id": "3b6IAHkw3J0o"
      }
    }
  ],
  "metadata": {
    "colab": {
      "provenance": []
    },
    "kernelspec": {
      "display_name": "Python 3",
      "name": "python3"
    }
  },
  "nbformat": 4,
  "nbformat_minor": 0
}